{
  "nbformat": 4,
  "nbformat_minor": 0,
  "metadata": {
    "colab": {
      "provenance": [],
      "authorship_tag": "ABX9TyM/mEde+riwciFKI/k2TXR6",
      "include_colab_link": true
    },
    "kernelspec": {
      "name": "python3",
      "display_name": "Python 3"
    },
    "language_info": {
      "name": "python"
    }
  },
  "cells": [
    {
      "cell_type": "markdown",
      "metadata": {
        "id": "view-in-github",
        "colab_type": "text"
      },
      "source": [
        "<a href=\"https://colab.research.google.com/github/moxie814/Predictive_assignments/blob/main/Untitled6.ipynb\" target=\"_parent\"><img src=\"https://colab.research.google.com/assets/colab-badge.svg\" alt=\"Open In Colab\"/></a>"
      ]
    },
    {
      "cell_type": "code",
      "execution_count": 1,
      "metadata": {
        "colab": {
          "base_uri": "https://localhost:8080/"
        },
        "id": "N5ly2GdF76ky",
        "outputId": "8630b001-9d4e-4dcf-deae-46171969bbb6"
      },
      "outputs": [
        {
          "output_type": "stream",
          "name": "stderr",
          "text": [
            "/usr/local/lib/python3.10/dist-packages/sklearn/linear_model/_logistic.py:458: ConvergenceWarning: lbfgs failed to converge (status=1):\n",
            "STOP: TOTAL NO. of ITERATIONS REACHED LIMIT.\n",
            "\n",
            "Increase the number of iterations (max_iter) or scale the data as shown in:\n",
            "    https://scikit-learn.org/stable/modules/preprocessing.html\n",
            "Please also refer to the documentation for alternative solver options:\n",
            "    https://scikit-learn.org/stable/modules/linear_model.html#logistic-regression\n",
            "  n_iter_i = _check_optimize_result(\n",
            "/usr/local/lib/python3.10/dist-packages/sklearn/linear_model/_logistic.py:458: ConvergenceWarning: lbfgs failed to converge (status=1):\n",
            "STOP: TOTAL NO. of ITERATIONS REACHED LIMIT.\n",
            "\n",
            "Increase the number of iterations (max_iter) or scale the data as shown in:\n",
            "    https://scikit-learn.org/stable/modules/preprocessing.html\n",
            "Please also refer to the documentation for alternative solver options:\n",
            "    https://scikit-learn.org/stable/modules/linear_model.html#logistic-regression\n",
            "  n_iter_i = _check_optimize_result(\n",
            "/usr/local/lib/python3.10/dist-packages/sklearn/linear_model/_logistic.py:458: ConvergenceWarning: lbfgs failed to converge (status=1):\n",
            "STOP: TOTAL NO. of ITERATIONS REACHED LIMIT.\n",
            "\n",
            "Increase the number of iterations (max_iter) or scale the data as shown in:\n",
            "    https://scikit-learn.org/stable/modules/preprocessing.html\n",
            "Please also refer to the documentation for alternative solver options:\n",
            "    https://scikit-learn.org/stable/modules/linear_model.html#logistic-regression\n",
            "  n_iter_i = _check_optimize_result(\n",
            "/usr/local/lib/python3.10/dist-packages/sklearn/linear_model/_logistic.py:458: ConvergenceWarning: lbfgs failed to converge (status=1):\n",
            "STOP: TOTAL NO. of ITERATIONS REACHED LIMIT.\n",
            "\n",
            "Increase the number of iterations (max_iter) or scale the data as shown in:\n",
            "    https://scikit-learn.org/stable/modules/preprocessing.html\n",
            "Please also refer to the documentation for alternative solver options:\n",
            "    https://scikit-learn.org/stable/modules/linear_model.html#logistic-regression\n",
            "  n_iter_i = _check_optimize_result(\n",
            "/usr/local/lib/python3.10/dist-packages/sklearn/linear_model/_logistic.py:458: ConvergenceWarning: lbfgs failed to converge (status=1):\n",
            "STOP: TOTAL NO. of ITERATIONS REACHED LIMIT.\n",
            "\n",
            "Increase the number of iterations (max_iter) or scale the data as shown in:\n",
            "    https://scikit-learn.org/stable/modules/preprocessing.html\n",
            "Please also refer to the documentation for alternative solver options:\n",
            "    https://scikit-learn.org/stable/modules/linear_model.html#logistic-regression\n",
            "  n_iter_i = _check_optimize_result(\n"
          ]
        },
        {
          "output_type": "stream",
          "name": "stdout",
          "text": [
            "Table with TOPSIS scores saved to sampling_results.xlsx\n"
          ]
        }
      ],
      "source": [
        "import pandas as pd\n",
        "from sklearn.model_selection import train_test_split\n",
        "from sklearn.ensemble import RandomForestClassifier, GradientBoostingClassifier\n",
        "from sklearn.svm import SVC\n",
        "from sklearn.linear_model import LogisticRegression\n",
        "from sklearn.neighbors import KNeighborsClassifier\n",
        "from imblearn.over_sampling import RandomOverSampler\n",
        "from imblearn.under_sampling import RandomUnderSampler\n",
        "from imblearn.over_sampling import SMOTE\n",
        "from imblearn.over_sampling import ADASYN, BorderlineSMOTE\n",
        "from sklearn.metrics import accuracy_score, precision_score, recall_score, f1_score\n",
        "\n",
        "# Download the dataset\n",
        "url = \"https://github.com/AnjulaMehto/Sampling_Assignment/raw/main/Creditcard_data.csv\"\n",
        "df = pd.read_csv(url)\n",
        "\n",
        "# Identify the target variable\n",
        "target_variable = df.columns[-1]\n",
        "\n",
        "# Balance the dataset using RandomOverSampler\n",
        "ros = RandomOverSampler(random_state=42)\n",
        "X_resampled, y_resampled = ros.fit_resample(df.drop(target_variable, axis=1), df[target_variable])\n",
        "\n",
        "# Split features and target variable\n",
        "X = X_resampled\n",
        "y = y_resampled\n",
        "\n",
        "# Define TOPSIS function\n",
        "def topsis_score(y_true, y_pred):\n",
        "    accuracy = accuracy_score(y_true, y_pred)\n",
        "    precision = precision_score(y_true, y_pred)\n",
        "    recall = recall_score(y_true, y_pred)\n",
        "    f1 = f1_score(y_true, y_pred)\n",
        "    return ((accuracy + precision + recall + f1) / 4) * 100\n",
        "\n",
        "# Define ML models\n",
        "models = {\n",
        "    'RandomForest': RandomForestClassifier(random_state=42),\n",
        "    'SVM': SVC(probability=True, random_state=42),  # Set probability=True for AUC-ROC\n",
        "    'LogisticRegression': LogisticRegression(random_state=42),\n",
        "    'KNN': KNeighborsClassifier(),\n",
        "    'GradientBoosting': GradientBoostingClassifier(random_state=42)\n",
        "}\n",
        "\n",
        "# Define sampling techniques\n",
        "samplings = {\n",
        "    'RandomUnderSampling': RandomUnderSampler(random_state=42),\n",
        "    'RandomOverSampling': RandomOverSampler(random_state=42),\n",
        "    'SMOTE': SMOTE(random_state=42),\n",
        "    'ADASYN': ADASYN(random_state=42),\n",
        "    'BorderlineSMOTE': BorderlineSMOTE(random_state=42)\n",
        "}\n",
        "\n",
        "# Results list\n",
        "results_list = []\n",
        "\n",
        "# Apply different sampling techniques on different ML models\n",
        "for model_name, model in models.items():\n",
        "    for sampling_name, sampling in samplings.items():\n",
        "        X_resampled, y_resampled = sampling.fit_resample(X, y)\n",
        "        X_train, X_test, y_train, y_test = train_test_split(X_resampled, y_resampled, test_size=0.2, random_state=42)\n",
        "\n",
        "        model.fit(X_train, y_train)\n",
        "        y_pred = model.predict(X_test)\n",
        "\n",
        "        # Calculate TOPSIS score\n",
        "        topsis = topsis_score(y_test, y_pred)\n",
        "\n",
        "        results_list.append({\n",
        "            'Model': model_name,\n",
        "            'Sampling Technique': sampling_name,\n",
        "            'TOPSIS Score': topsis\n",
        "        })\n",
        "\n",
        "# Create a DataFrame from the results list\n",
        "results_df = pd.DataFrame(results_list)\n",
        "\n",
        "# Pivot the DataFrame for tabulating into a table\n",
        "table_df = results_df.pivot(index='Model', columns='Sampling Technique', values='TOPSIS Score')\n",
        "\n",
        "# Save the table to an Excel file\n",
        "excel_file_path = \"sampling_results.xlsx\"\n",
        "table_df.to_excel(excel_file_path)\n",
        "\n",
        "print(f\"Table with TOPSIS scores saved to {excel_file_path}\")"
      ]
    },
    {
      "cell_type": "code",
      "source": [],
      "metadata": {
        "id": "5qQfAWVV8Yq6"
      },
      "execution_count": null,
      "outputs": []
    }
  ]
}